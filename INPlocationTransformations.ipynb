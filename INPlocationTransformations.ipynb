{
 "cells": [
  {
   "cell_type": "markdown",
   "metadata": {},
   "source": [
    "# Anonymization Procedure for SWMM .inp with Geo Located Coordinate Systems\n",
    "\n",
    "***NOTE***: this entire procedure has been wrapped into a method in swwmWrangle. To see an example of how that is used, please see [Anonymize Full Routine](https://github.com/kLabUM/AnonymizeINP/blob/master/AnonymizeFullRoutine.ipynb).\n",
    "\n",
    "![](TRANSLATION_INPUT.PNG)\n",
    "\n",
    "**Motivation**: Remove any geolocated signatures from a SWMM .inp. This process can perform translation, rotation, and scaling of coordinates, then output them in a .inp-friendly format. The following SWMM .inp sections contain coordinate information:\n",
    "\n",
    "- [MAP]: defines the boundaries of the map and the unit of the map.\n",
    "- [COORDINATES]: lists (x,y) coordinates for nodes.\n",
    "- [VERTICES]: I don't know what these do. I think they are the lines of conduits.\n",
    "- [Polygons]: Defines shapes with list of (x,y) like subcatchments.\n",
    "- [SYMBOLS]: (x,y) for rain gains and other images."
   ]
  },
  {
   "cell_type": "code",
   "execution_count": 2,
   "metadata": {},
   "outputs": [],
   "source": [
    "import swmmWrangle as sm\n",
    "import matplotlib.pyplot as plt\n",
    "import random\n",
    "import math\n",
    "from affine import Affine\n",
    "from collections import OrderedDict\n",
    "\n",
    "\n",
    "inpF = 'YOUR_INP_FILE_HERE.inp'\n",
    "outF = inpF[:-3]+'out'\n",
    "\n",
    "\n",
    "model = sm.swmmINP(inpF,offset=0.0)\n",
    "model.set_dicts()\n",
    "model.set_geo_dicts()"
   ]
  },
  {
   "cell_type": "markdown",
   "metadata": {},
   "source": [
    "# Rotate (x,y) singles "
   ]
  },
  {
   "cell_type": "code",
   "execution_count": 33,
   "metadata": {},
   "outputs": [],
   "source": [
    "Rotation_Angle = random.random()*360\n",
    "\n",
    "A_rot = Affine.rotation(Rotation_Angle)\n",
    "\n",
    "# Rotate Nodes\n",
    "for node in model.coords:\n",
    "    model.coords[node]['xy_1'] = A_rot * model.coords[node]['xy']\n",
    "\n",
    "# Rotate Symbols\n",
    "for sym in model.symbols:\n",
    "    model.symbols[sym]['xy_1'] = A_rot * model.symbols[sym]['xy']\n",
    "    \n",
    "# Rotate Vertices\n",
    "for v in model.verts:\n",
    "    model.verts[v]['xy_1'] = []\n",
    "    for tup in model.verts[v]['xy']:\n",
    "        model.verts[v]['xy_1'].append(A_rot * tup)\n",
    "        \n",
    "# Rotate Polygons\n",
    "for p in model.polygons:\n",
    "    model.polygons[p]['xy_1'] = []\n",
    "    for tup in model.polygons[p]['xy']:\n",
    "        model.polygons[p]['xy_1'].append(A_rot * tup)"
   ]
  },
  {
   "cell_type": "code",
   "execution_count": 34,
   "metadata": {},
   "outputs": [
    {
     "data": {
      "image/png": "[encoded data removed]",
      "text/plain": [
       "<Figure size 432x288 with 1 Axes>"
      ]
     },
     "metadata": {},
     "output_type": "display_data"
    }
   ],
   "source": [
    "xys = [model.coords[i]['xy_1'] for i in model.coords]\n",
    "syms = [model.symbols[i]['xy_1'] for i in model.symbols]\n",
    "\n",
    "plt.scatter(*zip(*xys))\n",
    "plt.scatter(*zip(*syms))\n",
    "plt.title(\"Rotation Anlge: {0}\".format(str(round(Rotation_Angle,0))))\n",
    "plt.show()"
   ]
  },
  {
   "cell_type": "markdown",
   "metadata": {},
   "source": [
    "# Find Max and Min Coords after Rotation"
   ]
  },
  {
   "cell_type": "code",
   "execution_count": 35,
   "metadata": {},
   "outputs": [],
   "source": [
    "x_min = math.inf\n",
    "x_max = -math.inf\n",
    "y_min = math.inf\n",
    "y_max = -math.inf\n",
    "\n",
    "\n",
    "for n in model.coords:\n",
    "    \n",
    "    # Min\n",
    "    if model.coords[n]['xy_1'][0] < x_min:\n",
    "        x_min = model.coords[n]['xy_1'][0]\n",
    "    if model.coords[n]['xy_1'][1] < y_min:\n",
    "        y_min = model.coords[n]['xy_1'][1]\n",
    "        \n",
    "    # Max\n",
    "    if model.coords[n]['xy_1'][0] > x_max:\n",
    "        x_max = model.coords[n]['xy_1'][0]\n",
    "    if model.coords[n]['xy_1'][1] > y_max:\n",
    "        y_max = model.coords[n]['xy_1'][1]\n",
    "    \n",
    "for s in model.symbols:\n",
    "    \n",
    "    # Min\n",
    "    if model.symbols[s]['xy_1'][0] < x_min:\n",
    "        x_min = model.symbols[s]['xy_1'][0]\n",
    "    if model.symbols[s]['xy_1'][1] < y_min:\n",
    "        y_min = model.symbols[s]['xy_1'][1]\n",
    "        \n",
    "    # Max\n",
    "    if model.symbols[s]['xy_1'][0] > x_max:\n",
    "        x_max = model.symbols[s]['xy_1'][0]\n",
    "    if model.symbols[s]['xy_1'][1] > y_max:\n",
    "        y_max = model.symbols[s]['xy_1'][1]\n",
    "        \n",
    "for p in model.polygons:\n",
    "    for tup in model.polygons[p]['xy_1']:\n",
    "        \n",
    "        # Min\n",
    "        if tup[0] < x_min:\n",
    "            x_min = tup[0]\n",
    "        if tup[1] < y_min:\n",
    "            y_min = tup[0]\n",
    "            \n",
    "        # Max\n",
    "        if tup[0] > x_max:\n",
    "            x_max = tup[0]\n",
    "        if tup[1] > y_max:\n",
    "            y_max = tup[1]\n",
    "            \n",
    "            \n",
    "for v in model.verts:\n",
    "    for tup in model.verts[v]['xy_1']:\n",
    "        \n",
    "        # Min\n",
    "        if tup[0] < x_min:\n",
    "            x_min = tup[0]\n",
    "        if tup[1] < y_min:\n",
    "            y_min = tup[1]\n",
    "            \n",
    "        # Max\n",
    "        if tup[0] > x_max:\n",
    "            x_max = tup[0]\n",
    "        if tup[1] > y_max:\n",
    "            y_max = tup[1]\n"
   ]
  },
  {
   "cell_type": "markdown",
   "metadata": {},
   "source": [
    "# Scaling\n",
    "Motivation is to get all maps into the same range of total distances -- that way cities cannot be determined via absolute distances of their windows."
   ]
  },
  {
   "cell_type": "code",
   "execution_count": 36,
   "metadata": {},
   "outputs": [],
   "source": [
    "x_scale = 100000/(x_max - x_min)\n",
    "y_scale = 100000/(y_max - y_min)\n",
    "\n",
    "A_scale = Affine.scale(x_scale,y_scale)\n",
    "\n",
    "for node in model.coords:\n",
    "    model.coords[node]['xy_2'] = A_scale * model.coords[node]['xy_1']\n",
    "    \n",
    "for sym in model.symbols:\n",
    "    model.symbols[sym]['xy_2'] = A_scale * model.symbols[sym]['xy_1']\n",
    "\n",
    "for p in model.polygons:\n",
    "    model.polygons[p]['xy_2'] = []\n",
    "    for tup in model.polygons[p]['xy_1']:\n",
    "        model.polygons[p]['xy_2'].append(A_scale * tup)\n",
    "        \n",
    "for v in model.verts:\n",
    "    model.verts[v]['xy_2'] = []\n",
    "    for tup in model.verts[v]['xy_1']:\n",
    "        model.verts[v]['xy_2'].append(A_scale * tup)"
   ]
  },
  {
   "cell_type": "code",
   "execution_count": 37,
   "metadata": {},
   "outputs": [
    {
     "data": {
      "image/png": "[encoded data removed]",
      "text/plain": [
       "<Figure size 432x288 with 1 Axes>"
      ]
     },
     "metadata": {},
     "output_type": "display_data"
    }
   ],
   "source": [
    "xys = [model.coords[i]['xy_2'] for i in model.coords]\n",
    "syms = [model.symbols[i]['xy_2'] for i in model.symbols]\n",
    "\n",
    "plt.scatter(*zip(*xys))\n",
    "plt.scatter(*zip(*syms))\n",
    "plt.title(\"Rotation Anlge: {0}\".format(str(round(Rotation_Angle,0))))\n",
    "# plt.xlim([0, 1.05 * (x_max + x_trans)])\n",
    "# plt.ylim([0, 1.05 * (y_max + y_trans)])\n",
    "plt.show()"
   ]
  },
  {
   "cell_type": "markdown",
   "metadata": {},
   "source": [
    "# Find Max and Min Coords after Rotation"
   ]
  },
  {
   "cell_type": "code",
   "execution_count": 38,
   "metadata": {},
   "outputs": [],
   "source": [
    "x_min = math.inf\n",
    "x_max = -math.inf\n",
    "y_min = math.inf\n",
    "y_max = -math.inf\n",
    "\n",
    "\n",
    "for n in model.coords:\n",
    "    \n",
    "    # Min\n",
    "    if model.coords[n]['xy_2'][0] < x_min:\n",
    "        x_min = model.coords[n]['xy_2'][0]\n",
    "    if model.coords[n]['xy_2'][1] < y_min:\n",
    "        y_min = model.coords[n]['xy_2'][1]\n",
    "        \n",
    "    # Max\n",
    "    if model.coords[n]['xy_2'][0] > x_max:\n",
    "        x_max = model.coords[n]['xy_2'][0]\n",
    "    if model.coords[n]['xy_2'][1] > y_max:\n",
    "        y_max = model.coords[n]['xy_2'][1]\n",
    "    \n",
    "for s in model.symbols:\n",
    "    \n",
    "    # Min\n",
    "    if model.symbols[s]['xy_2'][0] < x_min:\n",
    "        x_min = model.symbols[s]['xy_2'][0]\n",
    "    if model.symbols[s]['xy_2'][1] < y_min:\n",
    "        y_min = model.symbols[s]['xy_2'][1]\n",
    "        \n",
    "    # Max\n",
    "    if model.symbols[s]['xy_2'][0] > x_max:\n",
    "        x_max = model.symbols[s]['xy_2'][0]\n",
    "    if model.symbols[s]['xy_2'][1] > y_max:\n",
    "        y_max = model.symbols[s]['xy_2'][1]\n",
    "        \n",
    "for p in model.polygons:\n",
    "    for tup in model.polygons[p]['xy_2']:\n",
    "        \n",
    "        # Min\n",
    "        if tup[0] < x_min:\n",
    "            x_min = tup[0]\n",
    "        if tup[1] < y_min:\n",
    "            y_min = tup[0]\n",
    "            \n",
    "        # Max\n",
    "        if tup[0] > x_max:\n",
    "            x_max = tup[0]\n",
    "        if tup[1] > y_max:\n",
    "            y_max = tup[1]\n",
    "            \n",
    "            \n",
    "for v in model.verts:\n",
    "    for tup in model.verts[v]['xy_2']:\n",
    "        \n",
    "        # Min\n",
    "        if tup[0] < x_min:\n",
    "            x_min = tup[0]\n",
    "        if tup[1] < y_min:\n",
    "            y_min = tup[1]\n",
    "            \n",
    "        # Max\n",
    "        if tup[0] > x_max:\n",
    "            x_max = tup[0]\n",
    "        if tup[1] > y_max:\n",
    "            y_max = tup[1]\n"
   ]
  },
  {
   "cell_type": "markdown",
   "metadata": {},
   "source": [
    "# Translation\n",
    "(0,0) will be new minimum and will set as such in the map dimensions window. However, we'll translate with a padding in order for the visuals to not look too tight."
   ]
  },
  {
   "cell_type": "code",
   "execution_count": 39,
   "metadata": {},
   "outputs": [
    {
     "name": "stdout",
     "output_type": "stream",
     "text": [
      "6831535.183383088 4999882.190860101\n"
     ]
    }
   ],
   "source": [
    "x_trans = -x_min + 0.05 * (x_max - x_min)\n",
    "y_trans = -y_min + 0.05 * (y_max - y_min)\n",
    "print(x_trans,y_trans)\n",
    "\n",
    "A_trans = Affine.translation(x_trans,y_trans)\n",
    "\n",
    "for node in model.coords:\n",
    "    model.coords[node]['xy_3'] = A_trans * model.coords[node]['xy_2']\n",
    "    \n",
    "for sym in model.symbols:\n",
    "    model.symbols[sym]['xy_3'] = A_trans * model.symbols[sym]['xy_2']\n",
    "\n",
    "for p in model.polygons:\n",
    "    model.polygons[p]['xy_3'] = []\n",
    "    for tup in model.polygons[p]['xy_2']:\n",
    "        model.polygons[p]['xy_3'].append(A_trans * tup)\n",
    "        \n",
    "for v in model.verts:\n",
    "    model.verts[v]['xy_3'] = []\n",
    "    for tup in model.verts[v]['xy_2']:\n",
    "        model.verts[v]['xy_3'].append(A_trans * tup)\n"
   ]
  },
  {
   "cell_type": "code",
   "execution_count": 40,
   "metadata": {},
   "outputs": [
    {
     "data": {
      "image/png": "[encoded data removed]",
      "text/plain": [
       "<Figure size 432x288 with 1 Axes>"
      ]
     },
     "metadata": {},
     "output_type": "display_data"
    }
   ],
   "source": [
    "xys = [model.coords[i]['xy_3'] for i in model.coords]\n",
    "syms = [model.symbols[i]['xy_3'] for i in model.symbols]\n",
    "\n",
    "plt.scatter(*zip(*xys))\n",
    "plt.scatter(*zip(*syms))\n",
    "plt.title(\"Rotation Anlge: {0}\".format(str(round(Rotation_Angle,0))))\n",
    "plt.xlim([0, 1.05 * (x_max + x_trans)])\n",
    "plt.ylim([0, 1.05 * (y_max + y_trans)])\n",
    "plt.show()"
   ]
  },
  {
   "cell_type": "markdown",
   "metadata": {},
   "source": [
    "# Define New Map Dimensions"
   ]
  },
  {
   "cell_type": "code",
   "execution_count": 87,
   "metadata": {},
   "outputs": [],
   "source": [
    "model.map['dim_transformed'] = [0,0,1.05 * (x_max + x_trans),1.05 * (y_max + y_trans)]"
   ]
  },
  {
   "cell_type": "markdown",
   "metadata": {},
   "source": [
    "# Output Sections in the Following Order\n",
    "\n",
    "- MAP\n",
    "- COORDINATES\n",
    "- VERTICES\n",
    "- POLYGONS\n",
    "- SYMBOLS"
   ]
  },
  {
   "cell_type": "code",
   "execution_count": 81,
   "metadata": {},
   "outputs": [],
   "source": [
    "# Write [MAP] section\n",
    "with open('MAP.txt','w') as f:\n",
    "    f.write('[MAP]\\n')\n",
    "    \n",
    "    f.write('DIMENSIONS')\n",
    "    for i in model.map['dim_transformed']:\n",
    "        f.write(' ' + str(i))\n",
    "    f.write('\\n')\n",
    "        \n",
    "    f.write('Units\\t {0}\\n'.format(model.map['units']))"
   ]
  },
  {
   "cell_type": "code",
   "execution_count": 82,
   "metadata": {},
   "outputs": [],
   "source": [
    "# Write [COORDINATES] section\n",
    "\n",
    "with open('COORDINATES.txt','w') as f:\n",
    "    f.write('[COORDINATES]\\n')\n",
    "    f.write(';;Node           X-Coord            Y-Coord           \\n')\n",
    "    f.write(';;-------------- ------------------ ------------------\\n')\n",
    "                    \n",
    "    for n in model.coords:\n",
    "        wrt = '{0}\\t\\t{1}\\t\\t{2}\\n'.format(\n",
    "            n,\n",
    "            model.coords[n]['xy_3'][0],\n",
    "            model.coords[n]['xy_3'][1]\n",
    "        )\n",
    "#         wrt = n + '\\t\\t' + str() + '\\t\\t' + str() + '\\n'\n",
    "        f.write(wrt)"
   ]
  },
  {
   "cell_type": "code",
   "execution_count": 83,
   "metadata": {},
   "outputs": [],
   "source": [
    "# Write Symbols\n",
    "\n",
    "with open('SYMBOLS.txt','w') as f:\n",
    "    f.write('[SYMBOLS]\\n')\n",
    "    f.write(';;Gage           X-Coord            Y-Coord           \\n')\n",
    "    f.write(';;-------------- ------------------ ------------------\\n')\n",
    "    \n",
    "    for s in model.symbols:\n",
    "        wrt = '{0}\\t\\t{1}\\t\\t{2}\\n'.format(\n",
    "            s,\n",
    "            model.symbols[s]['xy_3'][0],\n",
    "            model.symbols[s]['xy_3'][1]\n",
    "        )\n",
    "        f.write(wrt)"
   ]
  },
  {
   "cell_type": "code",
   "execution_count": 84,
   "metadata": {},
   "outputs": [],
   "source": [
    "# Write Polygons\n",
    "\n",
    "with open('POLYGONS.txt','w') as f:\n",
    "    f.write('[POLYGONS]\\n')\n",
    "    f.write(';;Subcatchment   X-Coord            Y-Coord           \\n')\n",
    "    f.write(';;-------------- ------------------ ------------------\\n')\n",
    "\n",
    "    for p in model.polygons:\n",
    "        for xy in model.polygons[p]['xy_3']:\n",
    "            wrt = '{0}\\t\\t{1}\\t\\t{2}\\n'.format(\n",
    "                p,\n",
    "                xy[0],\n",
    "                xy[1]\n",
    "            )\n",
    "            f.write(wrt)"
   ]
  },
  {
   "cell_type": "code",
   "execution_count": 85,
   "metadata": {},
   "outputs": [],
   "source": [
    "# Write Vertices\n",
    "\n",
    "with open('VERTICES.txt','w') as f:\n",
    "    f.write('[VERTICES]\\n')\n",
    "    f.write(';;Link           X-Coord            Y-Coord           \\n')\n",
    "    f.write(';;-------------- ------------------ ------------------\\n')\n",
    "\n",
    "    for v in model.verts:\n",
    "        for xy in model.verts[v]['xy_3']:\n",
    "            wrt = '{0}\\t\\t{1}\\t\\t{2}\\n'.format(\n",
    "                v,\n",
    "                xy[0],\n",
    "                xy[1]\n",
    "            )\n",
    "            f.write(wrt)"
   ]
  },
  {
   "cell_type": "code",
   "execution_count": 86,
   "metadata": {},
   "outputs": [],
   "source": [
    "txts = [\n",
    "    'MAP.txt',\n",
    "    'COORDINATES.txt',\n",
    "    'VERTICES.txt',\n",
    "    'POLYGONS.txt',\n",
    "    'SYMBOLS.txt'\n",
    "]\n",
    "\n",
    "with open('GeoSections.txt','w') as fout:\n",
    "    for txt in txts:\n",
    "        fout.write('\\n')\n",
    "        with open(txt) as fin:\n",
    "            for l in fin:\n",
    "                fout.write(l)\n",
    "    "
   ]
  },
  {
   "cell_type": "markdown",
   "metadata": {},
   "source": [
    "# Next Steps\n",
    "\n",
    "You're done text wrangling in Python! Now open the text file you created and copy and paste those sections into a copy of your base .inp file. Up up in SWMM and you get something like this:\n",
    "\n",
    "![](TRANSLATION_OUTPUT.PNG)"
   ]
  }
 ],
 "metadata": {
  "kernelspec": {
   "display_name": "Python 3",
   "language": "python",
   "name": "python3"
  },
  "language_info": {
   "codemirror_mode": {
    "name": "ipython",
    "version": 3
   },
   "file_extension": ".py",
   "mimetype": "text/x-python",
   "name": "python",
   "nbconvert_exporter": "python",
   "pygments_lexer": "ipython3",
   "version": "3.6.5"
  }
 },
 "nbformat": 4,
 "nbformat_minor": 2
}
