{
 "cells": [
  {
   "cell_type": "markdown",
   "metadata": {},
   "source": [
    "## SWMM `.INP` Anonymize Routine\n",
    "***NOTE:*** For more detailed description about the anonymization workflow please see [INP Location Transformations](https://github.com/kLabUM/AnonymizeINP/blob/master/INPlocationTransformations.ipynb)."
   ]
  },
  {
   "cell_type": "code",
   "execution_count": 3,
   "metadata": {},
   "outputs": [],
   "source": [
    "import swmmWrangle as sw\n",
    "inpF = 'YOUR_INP_FILE_HERE.inp'\n",
    "model = sw.swmmINP(inpF,offset=0.0)\n",
    "model.set_dicts()\n",
    "model.set_geo_dicts()\n",
    "model.make_anon()\n",
    "model.save_input(filename='anon_out.inp')"
   ]
  }
 ],
 "metadata": {
  "kernelspec": {
   "display_name": "Python 3",
   "language": "python",
   "name": "python3"
  },
  "language_info": {
   "codemirror_mode": {
    "name": "ipython",
    "version": 3
   },
   "file_extension": ".py",
   "mimetype": "text/x-python",
   "name": "python",
   "nbconvert_exporter": "python",
   "pygments_lexer": "ipython3",
   "version": "3.6.5"
  }
 },
 "nbformat": 4,
 "nbformat_minor": 2
}
